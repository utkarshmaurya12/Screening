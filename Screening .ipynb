{
 "cells": [
  {
   "cell_type": "code",
   "execution_count": 1,
   "metadata": {},
   "outputs": [],
   "source": [
    "def readFunc(filename):\n",
    "    try:\n",
    "        with open(f\"{filename}.txt\", 'r') as file:\n",
    "            contents = file.read()\n",
    "        contents = contents.replace('placement', 'screening')\n",
    "        print('Changes Done!!')\n",
    "        with open(f\"{filename}.txt\", 'w') as file:\n",
    "            file.write(contents)\n",
    "    finally:\n",
    "        file.close()"
   ]
  },
  {
   "cell_type": "code",
   "execution_count": null,
   "metadata": {},
   "outputs": [],
   "source": [
    "readFunc('example')\n"
   ]
  },
  {
   "cell_type": "code",
   "execution_count": 5,
   "metadata": {},
   "outputs": [
    {
     "name": "stdout",
     "output_type": "stream",
     "text": [
      "shot\n"
     ]
    }
   ],
   "source": [
    "#Abstractation\n",
    "from abc import ABC,abstractclassmethod\n",
    "\n",
    "class BaseBat(ABC):\n",
    "\n",
    "    @abstractclassmethod\n",
    "    def throw(self):\n",
    "        pass\n",
    "\n",
    "#object creation is not possible, throws an error\n",
    "#obj_ball = Ball()      \n",
    "\n",
    "class BaseBat(BaseBat):\n",
    "    \n",
    "    def throw(self):\n",
    "        print('shot')\n",
    "        \n",
    "obj_bat = BaseBat()\n",
    "obj_bat.throw()"
   ]
  },
  {
   "cell_type": "code",
   "execution_count": 24,
   "metadata": {},
   "outputs": [
    {
     "name": "stdout",
     "output_type": "stream",
     "text": [
      "Man class\n",
      "Women class\n",
      "Child class\n"
     ]
    }
   ],
   "source": [
    "class Man:\n",
    "    def Shout(self):\n",
    "        print('Man class')\n",
    "        \n",
    "class Women(Man):\n",
    "    def sleep(self):\n",
    "        print('Women class')\n",
    "        \n",
    "class Child(Women):\n",
    "    def cry(self):\n",
    "        print('Child class')\n",
    "\n",
    "#creating object of child class        \n",
    "obj_child = Child()\n",
    "# all methods are accessible\n",
    "obj_child.Shout()\n",
    "obj_child.sleep()\n",
    "obj_child.cry()"
   ]
  },
  {
   "cell_type": "code",
   "execution_count": 26,
   "metadata": {},
   "outputs": [
    {
     "name": "stdout",
     "output_type": "stream",
     "text": [
      "2.0\n"
     ]
    }
   ],
   "source": [
    "#Decorators\n",
    "\n",
    "#a custom decorator\n",
    "def check(func):\n",
    "    def inside(x,y):\n",
    "        if x < y:\n",
    "            x,y = y,x\n",
    "        return func(x,y)\n",
    "    return inside\n",
    "\n",
    "#implementing the decorator\n",
    "@check\n",
    "def div(x,y):\n",
    "    print(x/y)\n",
    "\n",
    "div(4,8)"
   ]
  },
  {
   "cell_type": "code",
   "execution_count": null,
   "metadata": {},
   "outputs": [],
   "source": []
  }
 ],
 "metadata": {
  "kernelspec": {
   "display_name": "Python 3",
   "language": "python",
   "name": "python3"
  },
  "language_info": {
   "codemirror_mode": {
    "name": "ipython",
    "version": 3
   },
   "file_extension": ".py",
   "mimetype": "text/x-python",
   "name": "python",
   "nbconvert_exporter": "python",
   "pygments_lexer": "ipython3",
   "version": "3.8.3"
  }
 },
 "nbformat": 4,
 "nbformat_minor": 4
}
